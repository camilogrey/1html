{
  "nbformat": 4,
  "nbformat_minor": 0,
  "metadata": {
    "colab": {
      "name": "Entrada_estandar.ipynb",
      "provenance": [],
      "collapsed_sections": [],
      "include_colab_link": true
    },
    "kernelspec": {
      "name": "python3",
      "display_name": "Python 3"
    },
    "language_info": {
      "name": "python"
    }
  },
  "cells": [
    {
      "cell_type": "markdown",
      "metadata": {
        "id": "view-in-github",
        "colab_type": "text"
      },
      "source": [
        "<a href=\"https://colab.research.google.com/github/camilogrey/1html/blob/main/Entrada_estandar.ipynb\" target=\"_parent\"><img src=\"https://colab.research.google.com/assets/colab-badge.svg\" alt=\"Open In Colab\"/></a>"
      ]
    },
    {
      "cell_type": "markdown",
      "metadata": {
        "id": "CAnrCObhSVtz"
      },
      "source": [
        "# Entrar datos a nuestro programa\n",
        "Para que un programa sea realmente útil, debe permitir el ingreso de datos del *mundo exterior*, estos datos pueden venir desde:\n",
        "\n",
        "\n",
        "1.   Un archivo en nuestro disco duro\n",
        "2.   Un dato desde un sensor como un micrófono o GPS\n",
        "3.   Datos desde un sitio en la nube\n",
        "\n",
        "En este curso los datos serán ingresados por parte de los usuarios  utilizando  el teclado también conocido como la [Entrada Estandar][1] . (seleccione para mas información\n",
        "\n",
        "[1]:https://es.wikipedia.org/wiki/Entrada_estándar\n",
        "\n",
        "La función que nos permite ingresar datos desde el teclado es\n",
        "```python\n",
        "input()\n",
        "```\n",
        "Probemos lo que sucede si le decimos al interprete de Python que interprete esta función"
      ]
    },
    {
      "cell_type": "code",
      "metadata": {
        "id": "JvsjTKU7SF11",
        "colab": {
          "base_uri": "https://localhost:8080/",
          "height": 52
        },
        "outputId": "9c5c50b1-7611-44d0-fca1-f8a5c31b5434"
      },
      "source": [
        "#Funcion que lee un valor desde teclado y lo retorna (al hacerlo se pierde, ¿Recuerdas porque?)\n",
        "input()"
      ],
      "execution_count": 12,
      "outputs": [
        {
          "output_type": "stream",
          "text": [
            "fk\n"
          ],
          "name": "stdout"
        },
        {
          "output_type": "execute_result",
          "data": {
            "application/vnd.google.colaboratory.intrinsic+json": {
              "type": "string"
            },
            "text/plain": [
              "'fk'"
            ]
          },
          "metadata": {
            "tags": []
          },
          "execution_count": 12
        }
      ]
    },
    {
      "cell_type": "markdown",
      "metadata": {
        "id": "lA5hvJqjXTQ6"
      },
      "source": [
        "```input()``` es una función que lee un valor desde teclado y lo retorna como un texto (cadena de caracteres/str); por lo tanto, este valor puede ser almacenado en una variable.\n",
        "\n",
        "¡Probémoslo!"
      ]
    },
    {
      "cell_type": "code",
      "metadata": {
        "colab": {
          "base_uri": "https://localhost:8080/"
        },
        "id": "VCJ8JoedYXTh",
        "outputId": "2f920b3c-32b2-4ccf-9d02-a639a9013d3a"
      },
      "source": [
        "#Funcion que lee un valor desde teclado y lo retorna para almacenarlo en un variable\n",
        "nombre=input()\n",
        "print(\"Hola\",nombre)"
      ],
      "execution_count": 13,
      "outputs": [
        {
          "output_type": "stream",
          "text": [
            "peter\n",
            "Hola peter\n"
          ],
          "name": "stdout"
        }
      ]
    },
    {
      "cell_type": "markdown",
      "metadata": {
        "id": "_9FFbt4TYtVZ"
      },
      "source": [
        "Aunque ya funciona un poco mejor, estaría bien que el usuario sepa que es lo que le estamos preguntando ¿No te parece? "
      ]
    },
    {
      "cell_type": "code",
      "metadata": {
        "colab": {
          "base_uri": "https://localhost:8080/"
        },
        "id": "a9wyePdPY9Wn",
        "outputId": "f08a1915-31fd-4920-f9e9-10248ee8c150"
      },
      "source": [
        "#Funcion que lee un valor desde teclado y lo retorna para almacenarlo en un variable mostrando un mensaje\n",
        "nombre=input(\"Digita tu nombre:\")\n",
        "print(\"Hola\",nombre)"
      ],
      "execution_count": 23,
      "outputs": [
        {
          "output_type": "stream",
          "text": [
            "Digita tu nombre:pet\n",
            "Hola pet\n"
          ],
          "name": "stdout"
        }
      ]
    },
    {
      "cell_type": "markdown",
      "metadata": {
        "id": "Bf4802OXZX2q"
      },
      "source": [
        "## Ejercicio el Censo\n",
        "¿Recuerdas el formulario que solicitaba datos para el censo de 1871?\n",
        "<img height=\"800px\" src=\"https://drive.google.com/thumbnail?id=1ADb-xM4QFSBqgGyRgY381x_teiNkYVmq\" align=\"left\" hspace=\"5px\" vspace=\"0\n",
        "px\">\n",
        "\n",
        "<br>\n",
        "<br>\n",
        "<br>\n",
        "<br>\n",
        "<br>\n",
        "<br>\n",
        "<br>\n",
        "<br>\n",
        "<br>\n",
        "<br>\n",
        "<br>\n",
        "<br>\n",
        "<br>\n",
        "<br>\n",
        "<br>\n",
        "<br>\n",
        "<br>\n",
        "<br>\n",
        "<br>\n",
        "<br>\n",
        "<br>\n",
        "<br>\n",
        "<br>\n",
        "<br>\n",
        "<br>\n",
        "<br>\n",
        "<br>\n",
        "<br>\n",
        "<br>\n",
        "<br>\n",
        "<br>\n",
        "<br>\n",
        "<br>\n",
        "<br>\n",
        "<br>\n",
        "<br>\n",
        "<br>\n",
        "<br>\n",
        "\n",
        "\n",
        "\n",
        "Escribe en la siguiente celda, un programa que lea cada uno de estos datos y luego los imprima en pantalla.\n"
      ]
    },
    {
      "cell_type": "code",
      "metadata": {
        "id": "aYU-WtYQckCv",
        "outputId": "3af6a465-b62b-4074-888c-03fffddcf32c",
        "colab": {
          "base_uri": "https://localhost:8080/"
        }
      },
      "source": [
        "#Programa datos del censo\n",
        "#Escribe tu programa aqui\n",
        "name=bool(input(\"como es tu nombre? \"))\n",
        "print(\"hola\", name)\n",
        "\n"
      ],
      "execution_count": 31,
      "outputs": [
        {
          "output_type": "stream",
          "text": [
            "como es tu nombre? 344\n",
            "hola True\n"
          ],
          "name": "stdout"
        }
      ]
    },
    {
      "cell_type": "markdown",
      "metadata": {
        "id": "G3hz01WZc56i"
      },
      "source": [
        "<details>\n",
        "<summary>Dale a la flecha si necesitas una pista</summary>\n",
        "<pre><code>\n",
        "nombre=input()\n",
        "print(\"Tu nombre es:\",nombre)\n",
        "#igual para todos los campos del formulario en esta misma celda\n",
        "<code><pre>\n",
        "</details>"
      ]
    },
    {
      "cell_type": "markdown",
      "metadata": {
        "id": "VISoYoNMdaaS"
      },
      "source": [
        "##Instrucciones\n",
        "Dado que ya sabemos leer y escribir 😊, podemos hacer nuestro primer programa que haga un cálculo. Empezaremos con un fácil: ¡sumar dos números! Aquí tenemos el algoritmo\n",
        "\n",
        "---\n",
        "**Algoritmo:** Sumar dos números reales\n",
        "---\n",
        "1.   **leer** numero_uno\n",
        "2.   **leer** numero_dos\n",
        "3.   **calcular** $suma=numero\\_uno+numero\\_dos$ \n",
        "4.   **Retornar** suma\n",
        "---\n",
        "\n",
        "A continuación el programa. ¡Pruebalo sumando 10.5 con 22.3!"
      ]
    },
    {
      "cell_type": "code",
      "metadata": {
        "colab": {
          "base_uri": "https://localhost:8080/"
        },
        "id": "m2600umCgViD",
        "outputId": "15877d9d-8e70-4029-e316-2c38cd0cae6d"
      },
      "source": [
        "'''\n",
        "Programa para sumar dos numeros reales\n",
        "Oscar Franco-Bedoya\n",
        "05/05/2021\n",
        "'''\n",
        "numero_uno=int(input(\"Digita el número uno para la suma:\"))\n",
        "numero_dos=int(input(\"Digita el número  dos para la suma:\"))  \n",
        "suma=numero_uno+numero_dos\n",
        "print(\"La suma entre\", numero_uno, \"y\",numero_dos,\"es\",suma)"
      ],
      "execution_count": 33,
      "outputs": [
        {
          "output_type": "stream",
          "text": [
            "Digita el número uno para la suma:10\n",
            "Digita el número  dos para la suma:20\n",
            "La suma entre 10 y 20 es 30\n"
          ],
          "name": "stdout"
        }
      ]
    },
    {
      "cell_type": "markdown",
      "metadata": {
        "id": "i1um2jnDiEpj"
      },
      "source": [
        "**¿Sorprendido con el resultado?**\n",
        "```\n",
        "La suma entre 10.5 y 22.3 es 10.522.3\n",
        "```\n",
        "**¿Identificas el problema?**\n",
        "\n",
        "**¿Que supones que pasó?**\n",
        "\n",
        "Como lo habíamos descrito antes en este laboratorio, la función ``input()`` retorna un tipo cadena de caracteres o texto, por lo tanto lo que parece estar haciendo el operador ``+`` no es sumar, aritmeticamente hablando, lo que hace es concatenar las dos cadenas.\n",
        "\n",
        "## Solución\n",
        "Afortunadamente Python nos ofrece una serie de funciones para trabajar con los tipos de una variable (¿recuerdas los elementos de una variable 1. nombre 2. valor 3. tipo?)\n",
        "por ejemplo\n",
        "```python\n",
        "type() #retorna el tipo de una variable\n",
        "```\n",
        "\n",
        "\n"
      ]
    },
    {
      "cell_type": "code",
      "metadata": {
        "colab": {
          "base_uri": "https://localhost:8080/"
        },
        "id": "85zogjZ0hVgy",
        "outputId": "b8c76993-2b93-47ce-bca2-cbe4751d3b0b"
      },
      "source": [
        "#Probando la instrucciòn type()\n",
        "numero_uno=input(\"Digita el número uno para la suma:\")\n",
        "print(type(numero_uno))\n"
      ],
      "execution_count": 35,
      "outputs": [
        {
          "output_type": "stream",
          "text": [
            "Digita el número uno para la suma:51\n",
            "<class 'str'>\n"
          ],
          "name": "stdout"
        }
      ]
    },
    {
      "cell_type": "markdown",
      "metadata": {
        "id": "giFp77JBqipz"
      },
      "source": [
        "Elemental mi querido Watson, lo que se lee con ```input()```se retorna como ```str``` \n",
        "\n",
        "### Conversion de tipos\n",
        "Lo que necesitamos es una función que nos permita convertir cadenas str en números reales, esta función es:\n",
        "```python:\n",
        "float() #gracias Python\n",
        "```\n",
        "\n",
        "Veamos com funciona en nuestro programa"
      ]
    },
    {
      "cell_type": "code",
      "metadata": {
        "colab": {
          "base_uri": "https://localhost:8080/"
        },
        "id": "fmAFZ8SisFA2",
        "outputId": "7d17f281-fec5-49a2-f4f6-de3dced43871"
      },
      "source": [
        "'''\n",
        "Programa para sumar dos numeros reales V2.0\n",
        "Oscar Franco-Bedoya\n",
        "05/05/2021\n",
        "'''\n",
        "numero_uno=input(\"Digita el número uno para la suma:\")\n",
        "numero_uno=float(numero_uno) #convierte el valor que tenia numero_uno a float y lo almacena en la misma variable que cambia de tipo ¿Recuerdas como se llama esto?\n",
        "numero_dos=input(\"Digita el número  dos para la suma:\")\n",
        "numero_dos=float(numero_dos) #convierte el valor que tenia numero_dos a float y lo almacena en la misma variable que cambia de tipo ¿Recuerdas como se llama esto?\n",
        "suma=numero_uno+numero_dos\n",
        "print(\"La suma entre\", numero_uno, \"y\",numero_dos,\"es\",suma)"
      ],
      "execution_count": 36,
      "outputs": [
        {
          "output_type": "stream",
          "text": [
            "Digita el número uno para la suma:10\n",
            "Digita el número  dos para la suma:20\n",
            "La suma entre 10.0 y 20.0 es 30.0\n"
          ],
          "name": "stdout"
        }
      ]
    },
    {
      "cell_type": "markdown",
      "metadata": {
        "id": "jryU1giYssfI"
      },
      "source": [
        "Muy bien, ahora si tenemos nuestro programa funcionando correctamente\n",
        "** Podemos mejorarlo **\n",
        "Dado que una función como input() retorna un valor, esta puede ser llamada como parámetro de entrada a otra función, en particular, la función float()\n",
        "```python:\n",
        "float(input()) #Convierte el valor str retornado por input() a float\n",
        "```\n",
        "La versiòn 3 del programa será entonces:"
      ]
    },
    {
      "cell_type": "code",
      "metadata": {
        "colab": {
          "base_uri": "https://localhost:8080/"
        },
        "id": "MgWnSuI7tcxY",
        "outputId": "14125522-d31c-46a2-de9e-99e5a70dabb5"
      },
      "source": [
        "'''\n",
        "Programa para sumar dos numeros reales V3.0\n",
        "Oscar Franco-Bedoya\n",
        "05/05/2021\n",
        "'''\n",
        "numero_uno=float(input(\"Digita el número uno para la suma:\"))\n",
        "numero_dos=float(input(\"Digita el número  dos para la suma:\"))\n",
        "suma=numero_uno+numero_dos\n",
        "print(\"La suma entre\", numero_uno, \"y\",numero_dos,\"es\",suma)"
      ],
      "execution_count": 37,
      "outputs": [
        {
          "output_type": "stream",
          "text": [
            "Digita el número uno para la suma:10\n",
            "Digita el número  dos para la suma:20\n",
            "La suma entre 10.0 y 20.0 es 30.0\n"
          ],
          "name": "stdout"
        }
      ]
    },
    {
      "cell_type": "markdown",
      "metadata": {
        "id": "FdNdHOCEwVOz"
      },
      "source": [
        "por analogía, si necesitaramos convertir no a float sino a int sería: \n",
        "```python:\n",
        "int(input()) #Convierte el valor str retornado por input() a float\n",
        "```\n"
      ]
    },
    {
      "cell_type": "markdown",
      "metadata": {
        "id": "m8K7PrF4uQav"
      },
      "source": [
        "#Ejercicio\n",
        "Para la versión 4 de nuestro programa modifiquémoslo para que realice las 4 operaciones aritméticas y la potencia/exponenciación"
      ]
    },
    {
      "cell_type": "code",
      "metadata": {
        "id": "SAfnsPfhuwDu",
        "outputId": "03e65bf8-992b-42f9-ddad-e099ebf9c53d",
        "colab": {
          "base_uri": "https://localhost:8080/"
        }
      },
      "source": [
        "'''\n",
        "Programa para realiza las 4 operaciones aritméticas y  eleva a la potencia para dos numeros reales V4.0\n",
        "Oscar Franco-Bedoya\n",
        "05/05/2021\n",
        "'''\n",
        "numero_uno=float(input(\"Digita el número uno:\"))\n",
        "numero_dos=float(input(\"Digita el número:\"))\n",
        "suma=(numero_uno+numero_dos)\n",
        "resta=(numero_uno-numero_dos)\n",
        "multiplicacion=(numero_uno*numero_dos)\n",
        "division=(numero_uno/numero_dos)\n",
        "exponencial=(numero_uno**3+numero_dos**2)\n",
        "print(suma, resta, multiplicacion, division, exponencial)\n"
      ],
      "execution_count": 4,
      "outputs": [
        {
          "output_type": "stream",
          "text": [
            "Digita el número uno:54\n",
            "Digita el número:54\n",
            "108.0 0.0 2916.0 1.0 160380.0\n"
          ],
          "name": "stdout"
        }
      ]
    },
    {
      "cell_type": "code",
      "metadata": {
        "id": "WdcfP-6EsxQe"
      },
      "source": [
        ""
      ],
      "execution_count": null,
      "outputs": []
    },
    {
      "cell_type": "markdown",
      "metadata": {
        "id": "-sUVMJ7OcFnC"
      },
      "source": [
        "---\n",
        "FINAL DEL LABORATORIO\n",
        "\n",
        "___"
      ]
    }
  ]
}