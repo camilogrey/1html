{
  "nbformat": 4,
  "nbformat_minor": 0,
  "metadata": {
    "colab": {
      "name": "Entrada_estandar.ipynb",
      "provenance": [],
      "collapsed_sections": [],
      "include_colab_link": true
    },
    "kernelspec": {
      "name": "python3",
      "display_name": "Python 3"
    },
    "language_info": {
      "name": "python"
    }
  },
  "cells": [
    {
      "cell_type": "markdown",
      "metadata": {
        "id": "view-in-github",
        "colab_type": "text"
      },
      "source": [
        "<a href=\"https://colab.research.google.com/github/camilogrey/1html/blob/main/Entrada_estandar.ipynb\" target=\"_parent\"><img src=\"https://colab.research.google.com/assets/colab-badge.svg\" alt=\"Open In Colab\"/></a>"
      ]
    },
    {
      "cell_type": "markdown",
      "metadata": {
        "id": "CAnrCObhSVtz"
      },
      "source": [
        "# Entrar datos a nuestro programa\n",
        "Para que un programa sea realmente útil, debe permitir el ingreso de datos del *mundo exterior*, estos datos pueden venir desde:\n",
        "\n",
        "\n",
        "1.   Un archivo en nuestro disco duro\n",
        "2.   Un dato desde un sensor como un micrófono o GPS\n",
        "3.   Datos desde un sitio en la nube\n",
        "\n",
        "En este curso los datos serán ingresados por parte de los usuarios  utilizando  el teclado también conocido como la [Entrada Estandar][1] . (seleccione para mas información\n",
        "\n",
        "[1]:https://es.wikipedia.org/wiki/Entrada_estándar\n",
        "\n",
        "La función que nos permite ingresar datos desde el teclado es\n",
        "```python\n",
        "input()\n",
        "```\n",
        "Probemos lo que sucede si le decimos al interprete de Python que interprete esta función"
      ]
    },
    {
      "cell_type": "code",
      "metadata": {
        "id": "JvsjTKU7SF11",
        "colab": {
          "base_uri": "https://localhost:8080/",
          "height": 52
        },
        "outputId": "2c919ea5-455f-47c8-fc1a-ec39ae22e8c4"
      },
      "source": [
        "#Funcion que lee un valor desde teclado y lo retorna (al hacerlo se pierde, ¿Recuerdas porque?)\n",
        "input()"
      ],
      "execution_count": null,
      "outputs": [
        {
          "output_type": "stream",
          "text": [
            "Hola\n"
          ],
          "name": "stdout"
        },
        {
          "output_type": "execute_result",
          "data": {
            "application/vnd.google.colaboratory.intrinsic+json": {
              "type": "string"
            },
            "text/plain": [
              "'Hola'"
            ]
          },
          "metadata": {
            "tags": []
          },
          "execution_count": 1
        }
      ]
    },
    {
      "cell_type": "markdown",
      "metadata": {
        "id": "lA5hvJqjXTQ6"
      },
      "source": [
        "```input()``` es una función que lee un valor desde teclado y lo retorna como un texto (cadena de caracteres/str); por lo tanto, este valor puede ser almacenado en una variable.\n",
        "\n",
        "¡Probémoslo!"
      ]
    },
    {
      "cell_type": "code",
      "metadata": {
        "colab": {
          "base_uri": "https://localhost:8080/"
        },
        "id": "VCJ8JoedYXTh",
        "outputId": "188fb0b2-d070-41b3-a3fa-a88f357b364b"
      },
      "source": [
        "#Funcion que lee un valor desde teclado y lo retorna para almacenarlo en un variable\n",
        "nombre=input()\n",
        "print(\"Hola\",nombre)"
      ],
      "execution_count": null,
      "outputs": [
        {
          "output_type": "stream",
          "text": [
            "Oscar\n",
            "Hola Oscar\n"
          ],
          "name": "stdout"
        }
      ]
    },
    {
      "cell_type": "markdown",
      "metadata": {
        "id": "_9FFbt4TYtVZ"
      },
      "source": [
        "Aunque ya funciona un poco mejor, estaría bien que el usuario sepa que es lo que le estamos preguntando ¿No te parece? "
      ]
    },
    {
      "cell_type": "code",
      "metadata": {
        "colab": {
          "base_uri": "https://localhost:8080/"
        },
        "id": "a9wyePdPY9Wn",
        "outputId": "520f8a28-104f-4fda-df2f-8dc83a761e52"
      },
      "source": [
        "#Funcion que lee un valor desde teclado y lo retorna para almacenarlo en un variable mostrando un mensaje\n",
        "nombre=input(\"Digita tu nombre:\")\n",
        "print(\"Hola\",nombre)"
      ],
      "execution_count": null,
      "outputs": [
        {
          "output_type": "stream",
          "text": [
            "Digita tu nombre:Oscar\n",
            "Hola Oscar\n"
          ],
          "name": "stdout"
        }
      ]
    },
    {
      "cell_type": "code",
      "metadata": {
        "id": "MZK5NRW-5TZq",
        "outputId": "47f1cb49-edbc-4cb3-fc1f-0175ede741a8",
        "colab": {
          "base_uri": "https://localhost:8080/"
        }
      },
      "source": [
        "print(\"hola nos dices tu nombre\")\n",
        "nombre = input()\n",
        "print(\"hola\", nombre, \"como estas?\")\n"
      ],
      "execution_count": 12,
      "outputs": [
        {
          "output_type": "stream",
          "text": [
            "hola nos dices tu nombre\n",
            "Raquel\n",
            "hola Raquel como estas?\n"
          ],
          "name": "stdout"
        }
      ]
    },
    {
      "cell_type": "markdown",
      "metadata": {
        "id": "Bf4802OXZX2q"
      },
      "source": [
        "## Ejercicio el Censo\n",
        "¿Recuerdas el formulario que solicitaba datos para el censo de 1871?\n",
        "<img height=\"800px\" src=\"https://drive.google.com/thumbnail?id=1ADb-xM4QFSBqgGyRgY381x_teiNkYVmq\" align=\"left\" hspace=\"5px\" vspace=\"0\n",
        "px\">\n",
        "\n",
        "<br>\n",
        "<br>\n",
        "<br>\n",
        "<br>\n",
        "<br>\n",
        "<br>\n",
        "<br>\n",
        "<br>\n",
        "<br>\n",
        "<br>\n",
        "<br>\n",
        "<br>\n",
        "<br>\n",
        "<br>\n",
        "<br>\n",
        "<br>\n",
        "<br>\n",
        "<br>\n",
        "<br>\n",
        "<br>\n",
        "<br>\n",
        "<br>\n",
        "<br>\n",
        "<br>\n",
        "<br>\n",
        "<br>\n",
        "<br>\n",
        "<br>\n",
        "<br>\n",
        "<br>\n",
        "<br>\n",
        "<br>\n",
        "<br>\n",
        "<br>\n",
        "<br>\n",
        "<br>\n",
        "<br>\n",
        "<br>\n",
        "\n",
        "\n",
        "\n",
        "Escribe en la siguiente celda, un programa que lea cada uno de estos datos y luego los imprima en pantalla.\n"
      ]
    },
    {
      "cell_type": "code",
      "metadata": {
        "id": "aYU-WtYQckCv",
        "outputId": "509f7c20-5ed8-48d0-b8b7-7c3d2cdf6378",
        "colab": {
          "base_uri": "https://localhost:8080/"
        }
      },
      "source": [
        "#Programa datos del censo\n",
        "#Escribe tu programa aqui\n",
        "print(\"         1871 Census  \")\n",
        "\n",
        "print(\"what is your name\")\n",
        "name=input()\n",
        "print(\"Your name is:\",name)\n",
        "\n",
        "print(\"what is your date of birth\")\n",
        "date_of_birth=input()\n",
        "print(\"Your date of birth is:\",date_of_birth)\n",
        "\n",
        "print(\"what is your occupation\")\n",
        "occupation=input()\n",
        "print(\"Your occupation is:\",occupation)\n",
        "\n",
        "print(\"what is your street name\")\n",
        "street_name=input()\n",
        "print(\"Your street_name is:\",street_name)\n",
        "\n",
        "print(\"what is your house number\")\n",
        "house_number=input()\n",
        "print(\"Your house number is:\",house_number)\n",
        "\n",
        "print(\"what is the number of people in your household\")\n",
        "household=input()\n",
        "print(\"You are living with\",household, \"people\")\n",
        "\n",
        "print(\"what is your marrital status\")\n",
        "marrital_status=input()\n",
        "print(\"Your marrital status is:\",marrital_status)\n",
        "\n",
        "print(\"Are your currently serving the armed force?\")\n",
        "armed_force=input()\n",
        "print(\"Your are serving the armed forces?\",armed_force)\n"
      ],
      "execution_count": null,
      "outputs": [
        {
          "output_type": "stream",
          "text": [
            "         1871 Census  \n",
            "what is your name\n"
          ],
          "name": "stdout"
        }
      ]
    },
    {
      "cell_type": "markdown",
      "metadata": {
        "id": "G3hz01WZc56i"
      },
      "source": [
        "<details>\n",
        "<summary>Dale a la flecha si necesitas una pista</summary>\n",
        "<pre><code>\n",
        "nombre=input()\n",
        "print(\"Tu nombre es:\",nombre)\n",
        "#igual para todos los campos del formulario en esta misma celda\n",
        "<code><pre>\n",
        "</details>"
      ]
    },
    {
      "cell_type": "markdown",
      "metadata": {
        "id": "VISoYoNMdaaS"
      },
      "source": [
        "##Instrucciones\n",
        "Dado que ya sabemos leer y escribir 😊, podemos hacer nuestro primer programa que haga un cálculo. Empezaremos con un fácil: ¡sumar dos números! Aquí tenemos el algoritmo\n",
        "\n",
        "---\n",
        "**Algoritmo:** Sumar dos números reales\n",
        "---\n",
        "1.   **leer** numero_uno\n",
        "2.   **leer** numero_dos\n",
        "3.   **calcular** $suma=numero\\_uno+numero\\_dos$ \n",
        "4.   **Retornar** suma\n",
        "---\n",
        "\n",
        "A continuación el programa. ¡Pruebalo sumando 10.5 con 22.3!"
      ]
    },
    {
      "cell_type": "code",
      "metadata": {
        "id": "m2600umCgViD"
      },
      "source": [
        "'''\n",
        "Programa para sumar dos numeros reales\n",
        "Oscar Franco-Bedoya\n",
        "05/05/2021\n",
        "'''\n",
        "numero_uno=input(\"Digita el número uno para la suma:\")\n",
        "numero_dos=input(\"Digita el número  dos para la suma:\")\n",
        "suma=numero_uno+numero_dos\n",
        "print(\"La suma entre\", numero_uno, \"y\",numero_dos,\"es\",suma)"
      ],
      "execution_count": null,
      "outputs": []
    },
    {
      "cell_type": "markdown",
      "metadata": {
        "id": "i1um2jnDiEpj"
      },
      "source": [
        "**¿Sorprendido con el resultado?**\n",
        "```\n",
        "La suma entre 10.5 y 22.3 es 10.522.3\n",
        "```\n",
        "**¿Identificas el problema?**\n",
        "\n",
        "**¿Que supones que pasó?**\n",
        "\n",
        "Como lo habíamos descrito antes en este laboratorio, la función ``input()`` retorna un tipo cadena de caracteres o texto, por lo tanto lo que parece estar haciendo el operador ``+`` no es sumar, aritmeticamente hablando, lo que hace es concatenar las dos cadenas.\n",
        "\n",
        "## Solución\n",
        "Afortunadamente Python nos ofrece una serie de funciones para trabajar con los tipos de una variable (¿recuerdas los elementos de una variable 1. nombre 2. valor 3. tipo?)\n",
        "por ejemplo\n",
        "```python\n",
        "type() #retorna el tipo de una variable\n",
        "```\n",
        "\n",
        "\n"
      ]
    },
    {
      "cell_type": "code",
      "metadata": {
        "colab": {
          "base_uri": "https://localhost:8080/"
        },
        "id": "85zogjZ0hVgy",
        "outputId": "bb5aeec5-9af8-4948-efb3-64731684c801"
      },
      "source": [
        "#Probando la instrucciòn type()\n",
        "numero_uno=input(\"Digita el número uno para la suma:\")\n",
        "type(numero_uno)\n"
      ],
      "execution_count": null,
      "outputs": [
        {
          "output_type": "stream",
          "text": [
            "Digita el número uno para la suma\n"
          ],
          "name": "stdout"
        },
        {
          "output_type": "execute_result",
          "data": {
            "text/plain": [
              "str"
            ]
          },
          "metadata": {
            "tags": []
          },
          "execution_count": 6
        }
      ]
    },
    {
      "cell_type": "markdown",
      "metadata": {
        "id": "giFp77JBqipz"
      },
      "source": [
        "Elemental mi querido Watson, lo que se lee con ```input()```se retorna como ```str``` \n",
        "\n",
        "### Conversion de tipos\n",
        "Lo que necesitamos es una función que nos permita convertir cadenas str en números reales, esta función es:\n",
        "```python:\n",
        "float() #gracias Python\n",
        "```\n",
        "\n",
        "Veamos com funciona en nuestro programa"
      ]
    },
    {
      "cell_type": "code",
      "metadata": {
        "colab": {
          "base_uri": "https://localhost:8080/"
        },
        "id": "fmAFZ8SisFA2",
        "outputId": "f01db96e-b3eb-43f5-f9b8-b7209907d670"
      },
      "source": [
        "'''\n",
        "Programa para sumar dos numeros reales V2.0\n",
        "Oscar Franco-Bedoya\n",
        "05/05/2021\n",
        "'''\n",
        "numero_uno=input(\"Digita el número uno para la suma:\")\n",
        "numero_uno=float(numero_uno) #convierte el valor que tenia numero_uno a float y lo almacena en la misma variable que cambia de tipo ¿Recuerdas como se llama esto?\n",
        "numero_dos=input(\"Digita el número  dos para la suma:\")\n",
        "numero_dos=float(numero_dos) #convierte el valor que tenia numero_dos a float y lo almacena en la misma variable que cambia de tipo ¿Recuerdas como se llama esto?\n",
        "suma=numero_uno+numero_dos\n",
        "print(\"La suma entre\", numero_uno, \"y\",numero_dos,\"es\",suma)"
      ],
      "execution_count": null,
      "outputs": [
        {
          "output_type": "stream",
          "text": [
            "Digita el número uno para la suma10.5\n",
            "Digita el número  dos para la suma30.8\n",
            "La suma entre 10.5 y 30.8 es 41.3\n"
          ],
          "name": "stdout"
        }
      ]
    },
    {
      "cell_type": "markdown",
      "metadata": {
        "id": "jryU1giYssfI"
      },
      "source": [
        "Muy bien, ahora si tenemos nuestro programa funcionando correctamente\n",
        "** Podemos mejorarlo **\n",
        "Dado que una función como input() retorna un valor, esta puede ser llamada como parámetro de entrada a otra función, en particular, la función float()\n",
        "```python:\n",
        "float(input()) #Convierte el valor str retornado por input() a float\n",
        "```\n",
        "La versiòn 3 del programa será entonces:"
      ]
    },
    {
      "cell_type": "code",
      "metadata": {
        "colab": {
          "base_uri": "https://localhost:8080/"
        },
        "id": "MgWnSuI7tcxY",
        "outputId": "eb3c22bc-2350-41a3-a609-125e3f338fa0"
      },
      "source": [
        "'''\n",
        "Programa para sumar dos numeros reales V3.0\n",
        "Oscar Franco-Bedoya\n",
        "05/05/2021\n",
        "'''\n",
        "numero_uno=float(input(\"Digita el número uno para la suma:\"))\n",
        "numero_dos=float(input(\"Digita el número  dos para la suma:\"))\n",
        "suma=numero_uno+numero_dos\n",
        "print(\"La suma entre\", numero_uno, \"y\",numero_dos,\"es\",suma)"
      ],
      "execution_count": null,
      "outputs": [
        {
          "output_type": "stream",
          "text": [
            "Digita el número uno para la suma10.3\n",
            "Digita el número  dos para la suma15.8\n",
            "La suma entre 10.3 y 15.8 es 26.1\n"
          ],
          "name": "stdout"
        }
      ]
    },
    {
      "cell_type": "markdown",
      "metadata": {
        "id": "FdNdHOCEwVOz"
      },
      "source": [
        "por analogía, si necesitaramos convertir no a float sino a int sería: \n",
        "```python:\n",
        "int(input()) #Convierte el valor str retornado por input() a float\n",
        "```\n"
      ]
    },
    {
      "cell_type": "markdown",
      "metadata": {
        "id": "m8K7PrF4uQav"
      },
      "source": [
        "#Ejercicio\n",
        "Para la versión 4 de nuestro programa modifiquémoslo para que realice las 4 operaciones aritméticas y la potencia/exponenciación"
      ]
    },
    {
      "cell_type": "code",
      "metadata": {
        "id": "SAfnsPfhuwDu"
      },
      "source": [
        "'''\n",
        "Programa para realiza las 4 operaciones aritméticas y  eleva a la potencia para dos numeros reales V4.0\n",
        "Oscar Franco-Bedoya\n",
        "05/05/2021\n",
        "'''\n",
        "numero_uno=float(input(\"Digita el número uno:\"))\n",
        "numero_dos=float(input(\"Digita el número:\"))"
      ],
      "execution_count": null,
      "outputs": []
    },
    {
      "cell_type": "markdown",
      "metadata": {
        "id": "-sUVMJ7OcFnC"
      },
      "source": [
        "---\n",
        "FINAL DEL LABORATORIO\n",
        "\n",
        "___"
      ]
    }
  ]
}