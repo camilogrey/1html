{
  "nbformat": 4,
  "nbformat_minor": 0,
  "metadata": {
    "colab": {
      "name": "Entrada_estandar.ipynb",
      "provenance": [],
      "collapsed_sections": [],
      "include_colab_link": true
    },
    "kernelspec": {
      "name": "python3",
      "display_name": "Python 3"
    },
    "language_info": {
      "name": "python"
    }
  },
  "cells": [
    {
      "cell_type": "markdown",
      "metadata": {
        "id": "view-in-github",
        "colab_type": "text"
      },
      "source": [
        "<a href=\"https://colab.research.google.com/github/camilogrey/1html/blob/main/Entrada_estandar.ipynb\" target=\"_parent\"><img src=\"https://colab.research.google.com/assets/colab-badge.svg\" alt=\"Open In Colab\"/></a>"
      ]
    },
    {
      "cell_type": "markdown",
      "metadata": {
        "id": "CAnrCObhSVtz"
      },
      "source": [
        "# Entrar datos a nuestro programa\n",
        "Para que un programa sea realmente útil, debe permitir el ingreso de datos del *mundo exterior*, estos datos pueden venir desde:\n",
        "\n",
        "\n",
        "1.   Un archivo en nuestro disco duro\n",
        "2.   Un dato desde un sensor como un micrófono o GPS\n",
        "3.   Datos desde un sitio en la nube\n",
        "\n",
        "En este curso los datos serán ingresados por parte de los usuarios  utilizando  el teclado también conocido como la [Entrada Estandar][1] . (seleccione para mas información\n",
        "\n",
        "[1]:https://es.wikipedia.org/wiki/Entrada_estándar\n",
        "\n",
        "La función que nos permite ingresar datos desde el teclado es\n",
        "```python\n",
        "input()\n",
        "```\n",
        "Probemos lo que sucede si le decimos al interprete de Python que interprete esta función"
      ]
    },
    {
      "cell_type": "code",
      "metadata": {
        "id": "JvsjTKU7SF11",
        "colab": {
          "base_uri": "https://localhost:8080/",
          "height": 52
        },
        "outputId": "2c919ea5-455f-47c8-fc1a-ec39ae22e8c4"
      },
      "source": [
        "#Funcion que lee un valor desde teclado y lo retorna (al hacerlo se pierde, ¿Recuerdas porque?)\n",
        "input()"
      ],
      "execution_count": null,
      "outputs": [
        {
          "output_type": "stream",
          "text": [
            "Hola\n"
          ],
          "name": "stdout"
        },
        {
          "output_type": "execute_result",
          "data": {
            "application/vnd.google.colaboratory.intrinsic+json": {
              "type": "string"
            },
            "text/plain": [
              "'Hola'"
            ]
          },
          "metadata": {
            "tags": []
          },
          "execution_count": 1
        }
      ]
    },
    {
      "cell_type": "markdown",
      "metadata": {
        "id": "lA5hvJqjXTQ6"
      },
      "source": [
        "```input()``` es una función que lee un valor desde teclado y lo retorna como un texto (cadena de caracteres/str); por lo tanto, este valor puede ser almacenado en una variable.\n",
        "\n",
        "¡Probémoslo!"
      ]
    },
    {
      "cell_type": "code",
      "metadata": {
        "colab": {
          "base_uri": "https://localhost:8080/"
        },
        "id": "VCJ8JoedYXTh",
        "outputId": "188fb0b2-d070-41b3-a3fa-a88f357b364b"
      },
      "source": [
        "#Funcion que lee un valor desde teclado y lo retorna para almacenarlo en un variable\n",
        "nombre=input()\n",
        "print(\"Hola\",nombre)"
      ],
      "execution_count": null,
      "outputs": [
        {
          "output_type": "stream",
          "text": [
            "Oscar\n",
            "Hola Oscar\n"
          ],
          "name": "stdout"
        }
      ]
    },
    {
      "cell_type": "markdown",
      "metadata": {
        "id": "_9FFbt4TYtVZ"
      },
      "source": [
        "Aunque ya funciona un poco mejor, estaría bien que el usuario sepa que es lo que le estamos preguntando ¿No te parece? "
      ]
    },
    {
      "cell_type": "code",
      "metadata": {
        "colab": {
          "base_uri": "https://localhost:8080/"
        },
        "id": "a9wyePdPY9Wn",
        "outputId": "520f8a28-104f-4fda-df2f-8dc83a761e52"
      },
      "source": [
        "#Funcion que lee un valor desde teclado y lo retorna para almacenarlo en un variable mostrando un mensaje\n",
        "nombre=input(\"Digita tu nombre:\")\n",
        "print(\"Hola\",nombre)"
      ],
      "execution_count": null,
      "outputs": [
        {
          "output_type": "stream",
          "text": [
            "Digita tu nombre:Oscar\n",
            "Hola Oscar\n"
          ],
          "name": "stdout"
        }
      ]
    },
    {
      "cell_type": "markdown",
      "metadata": {
        "id": "Bf4802OXZX2q"
      },
      "source": [
        "## Ejercicio el Censo\n",
        "¿Recuerdas el formulario que solicitaba datos para el censo de 1871?\n",
        "<img height=\"800px\" src=\"https://drive.google.com/thumbnail?id=1ADb-xM4QFSBqgGyRgY381x_teiNkYVmq\" align=\"left\" hspace=\"5px\" vspace=\"0\n",
        "px\">\n",
        "\n",
        "<br>\n",
        "<br>\n",
        "<br>\n",
        "<br>\n",
        "<br>\n",
        "<br>\n",
        "<br>\n",
        "<br>\n",
        "<br>\n",
        "<br>\n",
        "<br>\n",
        "<br>\n",
        "<br>\n",
        "<br>\n",
        "<br>\n",
        "<br>\n",
        "<br>\n",
        "<br>\n",
        "<br>\n",
        "<br>\n",
        "<br>\n",
        "<br>\n",
        "<br>\n",
        "<br>\n",
        "<br>\n",
        "<br>\n",
        "<br>\n",
        "<br>\n",
        "<br>\n",
        "<br>\n",
        "<br>\n",
        "<br>\n",
        "<br>\n",
        "<br>\n",
        "<br>\n",
        "<br>\n",
        "<br>\n",
        "<br>\n",
        "\n",
        "\n",
        "\n",
        "Escribe en la siguiente celda, un programa que lea cada uno de estos datos y luego los imprima en pantalla.\n"
      ]
    },
    {
      "cell_type": "code",
      "metadata": {
        "id": "aYU-WtYQckCv",
        "outputId": "78838ccd-441e-41c3-ae6a-ccfe853efa88",
        "colab": {
          "base_uri": "https://localhost:8080/",
          "height": 561
        }
      },
      "source": [
        "#Programa datos del censo\n",
        "#Escribe tu programa aqui\n",
        "\n",
        "\n"
      ],
      "execution_count": 19,
      "outputs": [
        {
          "output_type": "stream",
          "text": [
            "         1871 Census  \n",
            "what is your name\n"
          ],
          "name": "stdout"
        },
        {
          "output_type": "error",
          "ename": "KeyboardInterrupt",
          "evalue": "ignored",
          "traceback": [
            "\u001b[0;31m---------------------------------------------------------------------------\u001b[0m",
            "\u001b[0;31mKeyboardInterrupt\u001b[0m                         Traceback (most recent call last)",
            "\u001b[0;32m/usr/local/lib/python3.7/dist-packages/ipykernel/kernelbase.py\u001b[0m in \u001b[0;36m_input_request\u001b[0;34m(self, prompt, ident, parent, password)\u001b[0m\n\u001b[1;32m    728\u001b[0m             \u001b[0;32mtry\u001b[0m\u001b[0;34m:\u001b[0m\u001b[0;34m\u001b[0m\u001b[0;34m\u001b[0m\u001b[0m\n\u001b[0;32m--> 729\u001b[0;31m                 \u001b[0mident\u001b[0m\u001b[0;34m,\u001b[0m \u001b[0mreply\u001b[0m \u001b[0;34m=\u001b[0m \u001b[0mself\u001b[0m\u001b[0;34m.\u001b[0m\u001b[0msession\u001b[0m\u001b[0;34m.\u001b[0m\u001b[0mrecv\u001b[0m\u001b[0;34m(\u001b[0m\u001b[0mself\u001b[0m\u001b[0;34m.\u001b[0m\u001b[0mstdin_socket\u001b[0m\u001b[0;34m,\u001b[0m \u001b[0;36m0\u001b[0m\u001b[0;34m)\u001b[0m\u001b[0;34m\u001b[0m\u001b[0;34m\u001b[0m\u001b[0m\n\u001b[0m\u001b[1;32m    730\u001b[0m             \u001b[0;32mexcept\u001b[0m \u001b[0mException\u001b[0m\u001b[0;34m:\u001b[0m\u001b[0;34m\u001b[0m\u001b[0;34m\u001b[0m\u001b[0m\n",
            "\u001b[0;32m/usr/local/lib/python3.7/dist-packages/jupyter_client/session.py\u001b[0m in \u001b[0;36mrecv\u001b[0;34m(self, socket, mode, content, copy)\u001b[0m\n\u001b[1;32m    802\u001b[0m         \u001b[0;32mtry\u001b[0m\u001b[0;34m:\u001b[0m\u001b[0;34m\u001b[0m\u001b[0;34m\u001b[0m\u001b[0m\n\u001b[0;32m--> 803\u001b[0;31m             \u001b[0mmsg_list\u001b[0m \u001b[0;34m=\u001b[0m \u001b[0msocket\u001b[0m\u001b[0;34m.\u001b[0m\u001b[0mrecv_multipart\u001b[0m\u001b[0;34m(\u001b[0m\u001b[0mmode\u001b[0m\u001b[0;34m,\u001b[0m \u001b[0mcopy\u001b[0m\u001b[0;34m=\u001b[0m\u001b[0mcopy\u001b[0m\u001b[0;34m)\u001b[0m\u001b[0;34m\u001b[0m\u001b[0;34m\u001b[0m\u001b[0m\n\u001b[0m\u001b[1;32m    804\u001b[0m         \u001b[0;32mexcept\u001b[0m \u001b[0mzmq\u001b[0m\u001b[0;34m.\u001b[0m\u001b[0mZMQError\u001b[0m \u001b[0;32mas\u001b[0m \u001b[0me\u001b[0m\u001b[0;34m:\u001b[0m\u001b[0;34m\u001b[0m\u001b[0;34m\u001b[0m\u001b[0m\n",
            "\u001b[0;32m/usr/local/lib/python3.7/dist-packages/zmq/sugar/socket.py\u001b[0m in \u001b[0;36mrecv_multipart\u001b[0;34m(self, flags, copy, track)\u001b[0m\n\u001b[1;32m    582\u001b[0m         \"\"\"\n\u001b[0;32m--> 583\u001b[0;31m         \u001b[0mparts\u001b[0m \u001b[0;34m=\u001b[0m \u001b[0;34m[\u001b[0m\u001b[0mself\u001b[0m\u001b[0;34m.\u001b[0m\u001b[0mrecv\u001b[0m\u001b[0;34m(\u001b[0m\u001b[0mflags\u001b[0m\u001b[0;34m,\u001b[0m \u001b[0mcopy\u001b[0m\u001b[0;34m=\u001b[0m\u001b[0mcopy\u001b[0m\u001b[0;34m,\u001b[0m \u001b[0mtrack\u001b[0m\u001b[0;34m=\u001b[0m\u001b[0mtrack\u001b[0m\u001b[0;34m)\u001b[0m\u001b[0;34m]\u001b[0m\u001b[0;34m\u001b[0m\u001b[0;34m\u001b[0m\u001b[0m\n\u001b[0m\u001b[1;32m    584\u001b[0m         \u001b[0;31m# have first part already, only loop while more to receive\u001b[0m\u001b[0;34m\u001b[0m\u001b[0;34m\u001b[0m\u001b[0;34m\u001b[0m\u001b[0m\n",
            "\u001b[0;32mzmq/backend/cython/socket.pyx\u001b[0m in \u001b[0;36mzmq.backend.cython.socket.Socket.recv\u001b[0;34m()\u001b[0m\n",
            "\u001b[0;32mzmq/backend/cython/socket.pyx\u001b[0m in \u001b[0;36mzmq.backend.cython.socket.Socket.recv\u001b[0;34m()\u001b[0m\n",
            "\u001b[0;32mzmq/backend/cython/socket.pyx\u001b[0m in \u001b[0;36mzmq.backend.cython.socket._recv_copy\u001b[0;34m()\u001b[0m\n",
            "\u001b[0;32m/usr/local/lib/python3.7/dist-packages/zmq/backend/cython/checkrc.pxd\u001b[0m in \u001b[0;36mzmq.backend.cython.checkrc._check_rc\u001b[0;34m()\u001b[0m\n",
            "\u001b[0;31mKeyboardInterrupt\u001b[0m: ",
            "\nDuring handling of the above exception, another exception occurred:\n",
            "\u001b[0;31mKeyboardInterrupt\u001b[0m                         Traceback (most recent call last)",
            "\u001b[0;32m<ipython-input-19-ab16c02f41b2>\u001b[0m in \u001b[0;36m<module>\u001b[0;34m()\u001b[0m\n\u001b[1;32m      4\u001b[0m \u001b[0;34m\u001b[0m\u001b[0m\n\u001b[1;32m      5\u001b[0m \u001b[0mprint\u001b[0m\u001b[0;34m(\u001b[0m\u001b[0;34m\"what is your name\"\u001b[0m\u001b[0;34m)\u001b[0m\u001b[0;34m\u001b[0m\u001b[0;34m\u001b[0m\u001b[0m\n\u001b[0;32m----> 6\u001b[0;31m \u001b[0mname\u001b[0m\u001b[0;34m=\u001b[0m\u001b[0minput\u001b[0m\u001b[0;34m(\u001b[0m\u001b[0;34m)\u001b[0m\u001b[0;34m\u001b[0m\u001b[0;34m\u001b[0m\u001b[0m\n\u001b[0m\u001b[1;32m      7\u001b[0m \u001b[0mprint\u001b[0m\u001b[0;34m(\u001b[0m\u001b[0;34m\"Your name is:\"\u001b[0m\u001b[0;34m,\u001b[0m\u001b[0mname\u001b[0m\u001b[0;34m)\u001b[0m\u001b[0;34m\u001b[0m\u001b[0;34m\u001b[0m\u001b[0m\n\u001b[1;32m      8\u001b[0m \u001b[0;34m\u001b[0m\u001b[0m\n",
            "\u001b[0;32m/usr/local/lib/python3.7/dist-packages/ipykernel/kernelbase.py\u001b[0m in \u001b[0;36mraw_input\u001b[0;34m(self, prompt)\u001b[0m\n\u001b[1;32m    702\u001b[0m             \u001b[0mself\u001b[0m\u001b[0;34m.\u001b[0m\u001b[0m_parent_ident\u001b[0m\u001b[0;34m,\u001b[0m\u001b[0;34m\u001b[0m\u001b[0;34m\u001b[0m\u001b[0m\n\u001b[1;32m    703\u001b[0m             \u001b[0mself\u001b[0m\u001b[0;34m.\u001b[0m\u001b[0m_parent_header\u001b[0m\u001b[0;34m,\u001b[0m\u001b[0;34m\u001b[0m\u001b[0;34m\u001b[0m\u001b[0m\n\u001b[0;32m--> 704\u001b[0;31m             \u001b[0mpassword\u001b[0m\u001b[0;34m=\u001b[0m\u001b[0;32mFalse\u001b[0m\u001b[0;34m,\u001b[0m\u001b[0;34m\u001b[0m\u001b[0;34m\u001b[0m\u001b[0m\n\u001b[0m\u001b[1;32m    705\u001b[0m         )\n\u001b[1;32m    706\u001b[0m \u001b[0;34m\u001b[0m\u001b[0m\n",
            "\u001b[0;32m/usr/local/lib/python3.7/dist-packages/ipykernel/kernelbase.py\u001b[0m in \u001b[0;36m_input_request\u001b[0;34m(self, prompt, ident, parent, password)\u001b[0m\n\u001b[1;32m    732\u001b[0m             \u001b[0;32mexcept\u001b[0m \u001b[0mKeyboardInterrupt\u001b[0m\u001b[0;34m:\u001b[0m\u001b[0;34m\u001b[0m\u001b[0;34m\u001b[0m\u001b[0m\n\u001b[1;32m    733\u001b[0m                 \u001b[0;31m# re-raise KeyboardInterrupt, to truncate traceback\u001b[0m\u001b[0;34m\u001b[0m\u001b[0;34m\u001b[0m\u001b[0;34m\u001b[0m\u001b[0m\n\u001b[0;32m--> 734\u001b[0;31m                 \u001b[0;32mraise\u001b[0m \u001b[0mKeyboardInterrupt\u001b[0m\u001b[0;34m\u001b[0m\u001b[0;34m\u001b[0m\u001b[0m\n\u001b[0m\u001b[1;32m    735\u001b[0m             \u001b[0;32melse\u001b[0m\u001b[0;34m:\u001b[0m\u001b[0;34m\u001b[0m\u001b[0;34m\u001b[0m\u001b[0m\n\u001b[1;32m    736\u001b[0m                 \u001b[0;32mbreak\u001b[0m\u001b[0;34m\u001b[0m\u001b[0;34m\u001b[0m\u001b[0m\n",
            "\u001b[0;31mKeyboardInterrupt\u001b[0m: "
          ]
        }
      ]
    },
    {
      "cell_type": "markdown",
      "metadata": {
        "id": "G3hz01WZc56i"
      },
      "source": [
        "<details>\n",
        "<summary>Dale a la flecha si necesitas una pista</summary>\n",
        "<pre><code>\n",
        "nombre=input()\n",
        "print(\"Tu nombre es:\",nombre)\n",
        "#igual para todos los campos del formulario en esta misma celda\n",
        "<code><pre>\n",
        "</details>"
      ]
    },
    {
      "cell_type": "markdown",
      "metadata": {
        "id": "VISoYoNMdaaS"
      },
      "source": [
        "##Instrucciones\n",
        "Dado que ya sabemos leer y escribir 😊, podemos hacer nuestro primer programa que haga un cálculo. Empezaremos con un fácil: ¡sumar dos números! Aquí tenemos el algoritmo\n",
        "\n",
        "---\n",
        "**Algoritmo:** Sumar dos números reales\n",
        "---\n",
        "1.   **leer** numero_uno\n",
        "2.   **leer** numero_dos\n",
        "3.   **calcular** $suma=numero\\_uno+numero\\_dos$ \n",
        "4.   **Retornar** suma\n",
        "---\n",
        "\n",
        "A continuación el programa. ¡Pruebalo sumando 10.5 con 22.3!"
      ]
    },
    {
      "cell_type": "code",
      "metadata": {
        "id": "m2600umCgViD"
      },
      "source": [
        "'''\n",
        "Programa para sumar dos numeros reales\n",
        "Oscar Franco-Bedoya\n",
        "05/05/2021\n",
        "'''\n",
        "numero_uno=input(\"Digita el número uno para la suma:\")\n",
        "numero_dos=input(\"Digita el número  dos para la suma:\")\n",
        "suma=numero_uno+numero_dos\n",
        "print(\"La suma entre\", numero_uno, \"y\",numero_dos,\"es\",suma)"
      ],
      "execution_count": null,
      "outputs": []
    },
    {
      "cell_type": "markdown",
      "metadata": {
        "id": "i1um2jnDiEpj"
      },
      "source": [
        "**¿Sorprendido con el resultado?**\n",
        "```\n",
        "La suma entre 10.5 y 22.3 es 10.522.3\n",
        "```\n",
        "**¿Identificas el problema?**\n",
        "\n",
        "**¿Que supones que pasó?**\n",
        "\n",
        "Como lo habíamos descrito antes en este laboratorio, la función ``input()`` retorna un tipo cadena de caracteres o texto, por lo tanto lo que parece estar haciendo el operador ``+`` no es sumar, aritmeticamente hablando, lo que hace es concatenar las dos cadenas.\n",
        "\n",
        "## Solución\n",
        "Afortunadamente Python nos ofrece una serie de funciones para trabajar con los tipos de una variable (¿recuerdas los elementos de una variable 1. nombre 2. valor 3. tipo?)\n",
        "por ejemplo\n",
        "```python\n",
        "type() #retorna el tipo de una variable\n",
        "```\n",
        "\n",
        "\n"
      ]
    },
    {
      "cell_type": "code",
      "metadata": {
        "colab": {
          "base_uri": "https://localhost:8080/"
        },
        "id": "85zogjZ0hVgy",
        "outputId": "bb5aeec5-9af8-4948-efb3-64731684c801"
      },
      "source": [
        "#Probando la instrucciòn type()\n",
        "numero_uno=input(\"Digita el número uno para la suma:\")\n",
        "type(numero_uno)\n"
      ],
      "execution_count": null,
      "outputs": [
        {
          "output_type": "stream",
          "text": [
            "Digita el número uno para la suma\n"
          ],
          "name": "stdout"
        },
        {
          "output_type": "execute_result",
          "data": {
            "text/plain": [
              "str"
            ]
          },
          "metadata": {
            "tags": []
          },
          "execution_count": 6
        }
      ]
    },
    {
      "cell_type": "markdown",
      "metadata": {
        "id": "giFp77JBqipz"
      },
      "source": [
        "Elemental mi querido Watson, lo que se lee con ```input()```se retorna como ```str``` \n",
        "\n",
        "### Conversion de tipos\n",
        "Lo que necesitamos es una función que nos permita convertir cadenas str en números reales, esta función es:\n",
        "```python:\n",
        "float() #gracias Python\n",
        "```\n",
        "\n",
        "Veamos com funciona en nuestro programa"
      ]
    },
    {
      "cell_type": "code",
      "metadata": {
        "colab": {
          "base_uri": "https://localhost:8080/"
        },
        "id": "fmAFZ8SisFA2",
        "outputId": "f01db96e-b3eb-43f5-f9b8-b7209907d670"
      },
      "source": [
        "'''\n",
        "Programa para sumar dos numeros reales V2.0\n",
        "Oscar Franco-Bedoya\n",
        "05/05/2021\n",
        "'''\n",
        "numero_uno=input(\"Digita el número uno para la suma:\")\n",
        "numero_uno=float(numero_uno) #convierte el valor que tenia numero_uno a float y lo almacena en la misma variable que cambia de tipo ¿Recuerdas como se llama esto?\n",
        "numero_dos=input(\"Digita el número  dos para la suma:\")\n",
        "numero_dos=float(numero_dos) #convierte el valor que tenia numero_dos a float y lo almacena en la misma variable que cambia de tipo ¿Recuerdas como se llama esto?\n",
        "suma=numero_uno+numero_dos\n",
        "print(\"La suma entre\", numero_uno, \"y\",numero_dos,\"es\",suma)"
      ],
      "execution_count": null,
      "outputs": [
        {
          "output_type": "stream",
          "text": [
            "Digita el número uno para la suma10.5\n",
            "Digita el número  dos para la suma30.8\n",
            "La suma entre 10.5 y 30.8 es 41.3\n"
          ],
          "name": "stdout"
        }
      ]
    },
    {
      "cell_type": "markdown",
      "metadata": {
        "id": "jryU1giYssfI"
      },
      "source": [
        "Muy bien, ahora si tenemos nuestro programa funcionando correctamente\n",
        "** Podemos mejorarlo **\n",
        "Dado que una función como input() retorna un valor, esta puede ser llamada como parámetro de entrada a otra función, en particular, la función float()\n",
        "```python:\n",
        "float(input()) #Convierte el valor str retornado por input() a float\n",
        "```\n",
        "La versiòn 3 del programa será entonces:"
      ]
    },
    {
      "cell_type": "code",
      "metadata": {
        "colab": {
          "base_uri": "https://localhost:8080/"
        },
        "id": "MgWnSuI7tcxY",
        "outputId": "eb3c22bc-2350-41a3-a609-125e3f338fa0"
      },
      "source": [
        "'''\n",
        "Programa para sumar dos numeros reales V3.0\n",
        "Oscar Franco-Bedoya\n",
        "05/05/2021\n",
        "'''\n",
        "numero_uno=float(input(\"Digita el número uno para la suma:\"))\n",
        "numero_dos=float(input(\"Digita el número  dos para la suma:\"))\n",
        "suma=numero_uno+numero_dos\n",
        "print(\"La suma entre\", numero_uno, \"y\",numero_dos,\"es\",suma)"
      ],
      "execution_count": null,
      "outputs": [
        {
          "output_type": "stream",
          "text": [
            "Digita el número uno para la suma10.3\n",
            "Digita el número  dos para la suma15.8\n",
            "La suma entre 10.3 y 15.8 es 26.1\n"
          ],
          "name": "stdout"
        }
      ]
    },
    {
      "cell_type": "markdown",
      "metadata": {
        "id": "FdNdHOCEwVOz"
      },
      "source": [
        "por analogía, si necesitaramos convertir no a float sino a int sería: \n",
        "```python:\n",
        "int(input()) #Convierte el valor str retornado por input() a float\n",
        "```\n"
      ]
    },
    {
      "cell_type": "markdown",
      "metadata": {
        "id": "m8K7PrF4uQav"
      },
      "source": [
        "#Ejercicio\n",
        "Para la versión 4 de nuestro programa modifiquémoslo para que realice las 4 operaciones aritméticas y la potencia/exponenciación"
      ]
    },
    {
      "cell_type": "code",
      "metadata": {
        "id": "SAfnsPfhuwDu",
        "outputId": "ba3652a7-fe39-434c-b48c-6a391996c9d8",
        "colab": {
          "base_uri": "https://localhost:8080/"
        }
      },
      "source": [
        "'''\n",
        "Programa para realiza las 4 operaciones aritméticas y  eleva a la potencia para dos numeros reales V4.0\n",
        "Oscar Franco-Bedoya\n",
        "05/05/2021\n",
        "'''\n",
        "numero_uno=float(input(\"Digita el número uno:\"))\n",
        "numero_dos=float(input(\"Digita el número:\"))\n",
        "suma=numero_uno+numero_dos\n",
        "print(suma)\n",
        "type(suma)\n",
        "cuadrado=int(input(\"Digita el exponencial: \", ))\n",
        "suma_al_cuadrado=suma**cuadrado\n",
        "print(suma_al_cuadrado)\n",
        "division=suma_al_cuadrado/14\n",
        "print(division)"
      ],
      "execution_count": 45,
      "outputs": [
        {
          "output_type": "stream",
          "text": [
            "Digita el número uno:5\n",
            "Digita el número:4\n",
            "9.0\n",
            "Digita el exponencial: 2\n",
            "81.0\n",
            "5.785714285714286\n"
          ],
          "name": "stdout"
        }
      ]
    },
    {
      "cell_type": "markdown",
      "metadata": {
        "id": "-sUVMJ7OcFnC"
      },
      "source": [
        "---\n",
        "FINAL DEL LABORATORIO\n",
        "\n",
        "___"
      ]
    }
  ]
}